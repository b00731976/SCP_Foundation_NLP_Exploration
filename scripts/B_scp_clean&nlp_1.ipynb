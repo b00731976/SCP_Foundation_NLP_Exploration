{
 "cells": [
  {
   "cell_type": "markdown",
   "metadata": {},
   "source": [
    "### Libraries"
   ]
  },
  {
   "cell_type": "code",
   "execution_count": 356,
   "metadata": {},
   "outputs": [],
   "source": [
    "import pandas as pd\n",
    "import re\n",
    "import matplotlib.pyplot as plt\n",
    "from tqdm import tqdm"
   ]
  },
  {
   "cell_type": "code",
   "execution_count": 318,
   "metadata": {},
   "outputs": [
    {
     "name": "stderr",
     "output_type": "stream",
     "text": [
      "[nltk_data] Downloading package stopwords to\n",
      "[nltk_data]     C:\\Users\\kitsu\\AppData\\Roaming\\nltk_data...\n",
      "[nltk_data]   Package stopwords is already up-to-date!\n",
      "[nltk_data] Downloading package wordnet to\n",
      "[nltk_data]     C:\\Users\\kitsu\\AppData\\Roaming\\nltk_data...\n",
      "[nltk_data]   Package wordnet is already up-to-date!\n",
      "[nltk_data] Downloading package vader_lexicon to\n",
      "[nltk_data]     C:\\Users\\kitsu\\AppData\\Roaming\\nltk_data...\n"
     ]
    },
    {
     "data": {
      "text/plain": [
       "True"
      ]
     },
     "execution_count": 318,
     "metadata": {},
     "output_type": "execute_result"
    }
   ],
   "source": [
    "import nltk \n",
    "import nltk.corpus\n",
    "\n",
    "nltk.download('stopwords')\n",
    "from nltk.corpus import stopwords\n",
    "\n",
    "from nltk.stem.porter import PorterStemmer\n",
    "from nltk.stem import WordNetLemmatizer\n",
    "nltk.download('wordnet')\n",
    "\n",
    "from wordcloud import WordCloud, STOPWORDS\n",
    "\n",
    "from nltk.sentiment import SentimentIntensityAnalyzer\n",
    "nltk.download('vader_lexicon')"
   ]
  },
  {
   "cell_type": "code",
   "execution_count": 217,
   "metadata": {},
   "outputs": [],
   "source": [
    "stop = stopwords.words('english')\n",
    "lemmatizer = WordNetLemmatizer()"
   ]
  },
  {
   "cell_type": "markdown",
   "metadata": {},
   "source": [
    "# 1- Cleaning "
   ]
  },
  {
   "cell_type": "markdown",
   "metadata": {},
   "source": [
    "### Reading"
   ]
  },
  {
   "cell_type": "code",
   "execution_count": 218,
   "metadata": {},
   "outputs": [],
   "source": [
    "df = pd.read_csv('scp_20112021_export_4.csv', index_col=0)"
   ]
  },
  {
   "cell_type": "code",
   "execution_count": 219,
   "metadata": {},
   "outputs": [
    {
     "data": {
      "text/html": [
       "<div>\n",
       "<style scoped>\n",
       "    .dataframe tbody tr th:only-of-type {\n",
       "        vertical-align: middle;\n",
       "    }\n",
       "\n",
       "    .dataframe tbody tr th {\n",
       "        vertical-align: top;\n",
       "    }\n",
       "\n",
       "    .dataframe thead th {\n",
       "        text-align: right;\n",
       "    }\n",
       "</style>\n",
       "<table border=\"1\" class=\"dataframe\">\n",
       "  <thead>\n",
       "    <tr style=\"text-align: right;\">\n",
       "      <th></th>\n",
       "      <th>SCP Number</th>\n",
       "      <th>SCP Text</th>\n",
       "      <th>Ratings</th>\n",
       "      <th>Discussions</th>\n",
       "    </tr>\n",
       "  </thead>\n",
       "  <tbody>\n",
       "    <tr>\n",
       "      <th>0</th>\n",
       "      <td>2</td>\n",
       "      <td>['Item #: SCP-002', 'Object Class: Euclid', 'S...</td>\n",
       "      <td>1642</td>\n",
       "      <td>127</td>\n",
       "    </tr>\n",
       "    <tr>\n",
       "      <th>1</th>\n",
       "      <td>3</td>\n",
       "      <td>['Item #: SCP-003', 'Object Class: Euclid', 'S...</td>\n",
       "      <td>734</td>\n",
       "      <td>87</td>\n",
       "    </tr>\n",
       "    <tr>\n",
       "      <th>2</th>\n",
       "      <td>4</td>\n",
       "      <td>['Item #: SCP-004', 'Object Class: Euclid', 'S...</td>\n",
       "      <td>1056</td>\n",
       "      <td>124</td>\n",
       "    </tr>\n",
       "    <tr>\n",
       "      <th>3</th>\n",
       "      <td>5</td>\n",
       "      <td>['Item #: SCP-005', 'Object Class: Safe', 'Spe...</td>\n",
       "      <td>611</td>\n",
       "      <td>106</td>\n",
       "    </tr>\n",
       "    <tr>\n",
       "      <th>4</th>\n",
       "      <td>6</td>\n",
       "      <td>['Item #: SCP-006', 'Object Class: Safe', \"Spe...</td>\n",
       "      <td>584</td>\n",
       "      <td>101</td>\n",
       "    </tr>\n",
       "  </tbody>\n",
       "</table>\n",
       "</div>"
      ],
      "text/plain": [
       "   SCP Number                                           SCP Text  Ratings  \\\n",
       "0           2  ['Item #: SCP-002', 'Object Class: Euclid', 'S...     1642   \n",
       "1           3  ['Item #: SCP-003', 'Object Class: Euclid', 'S...      734   \n",
       "2           4  ['Item #: SCP-004', 'Object Class: Euclid', 'S...     1056   \n",
       "3           5  ['Item #: SCP-005', 'Object Class: Safe', 'Spe...      611   \n",
       "4           6  ['Item #: SCP-006', 'Object Class: Safe', \"Spe...      584   \n",
       "\n",
       "   Discussions  \n",
       "0          127  \n",
       "1           87  \n",
       "2          124  \n",
       "3          106  \n",
       "4          101  "
      ]
     },
     "execution_count": 219,
     "metadata": {},
     "output_type": "execute_result"
    }
   ],
   "source": [
    "df.head()"
   ]
  },
  {
   "cell_type": "markdown",
   "metadata": {},
   "source": [
    "### Cleaning"
   ]
  },
  {
   "cell_type": "code",
   "execution_count": 332,
   "metadata": {},
   "outputs": [],
   "source": [
    "def nlp_cleaner_class1(my_list):\n",
    "    my_list = str(my_list)\n",
    "    my_list = my_list.replace('\\\\n\\\\n',' ') #HTML leftovers\n",
    "    my_list = re.sub(r\"(@\\[A-Za-z0-9]+)|([^0-9A-Za-z \\t])|(\\w+:\\/\\/\\S+)|^rt|http.+?\", \"\", my_list)#HTML leftovers\n",
    "    my_list = my_list.lower()\n",
    "    my_list = \" \".join([word for word in my_list.split() if word not in (stop)]) #removing stop words\n",
    "    my_list = nltk.word_tokenize(my_list) #tokenization for order\n",
    "    my_list = [lemmatizer.lemmatize(word) for word in my_list] #lemmzatizer to keep the roots\n",
    "    return(my_list)"
   ]
  },
  {
   "cell_type": "code",
   "execution_count": 333,
   "metadata": {},
   "outputs": [],
   "source": [
    "map_clean_text = map(nlp_cleaner_class1, df.loc[:,\"SCP Text\"])"
   ]
  },
  {
   "cell_type": "code",
   "execution_count": 334,
   "metadata": {},
   "outputs": [],
   "source": [
    "list_clean_text = list(map_clean_text)"
   ]
  },
  {
   "cell_type": "code",
   "execution_count": 223,
   "metadata": {},
   "outputs": [],
   "source": [
    "df['SCP Text Cleaned 1'] = list_clean_text"
   ]
  },
  {
   "cell_type": "code",
   "execution_count": 224,
   "metadata": {},
   "outputs": [
    {
     "data": {
      "text/html": [
       "<div>\n",
       "<style scoped>\n",
       "    .dataframe tbody tr th:only-of-type {\n",
       "        vertical-align: middle;\n",
       "    }\n",
       "\n",
       "    .dataframe tbody tr th {\n",
       "        vertical-align: top;\n",
       "    }\n",
       "\n",
       "    .dataframe thead th {\n",
       "        text-align: right;\n",
       "    }\n",
       "</style>\n",
       "<table border=\"1\" class=\"dataframe\">\n",
       "  <thead>\n",
       "    <tr style=\"text-align: right;\">\n",
       "      <th></th>\n",
       "      <th>SCP Number</th>\n",
       "      <th>SCP Text</th>\n",
       "      <th>Ratings</th>\n",
       "      <th>Discussions</th>\n",
       "      <th>SCP Text Cleaned 1</th>\n",
       "    </tr>\n",
       "  </thead>\n",
       "  <tbody>\n",
       "    <tr>\n",
       "      <th>0</th>\n",
       "      <td>2</td>\n",
       "      <td>['Item #: SCP-002', 'Object Class: Euclid', 'S...</td>\n",
       "      <td>1642</td>\n",
       "      <td>127</td>\n",
       "      <td>[item, scp002, object, class, euclid, special,...</td>\n",
       "    </tr>\n",
       "    <tr>\n",
       "      <th>1</th>\n",
       "      <td>3</td>\n",
       "      <td>['Item #: SCP-003', 'Object Class: Euclid', 'S...</td>\n",
       "      <td>734</td>\n",
       "      <td>87</td>\n",
       "      <td>[item, scp003, object, class, euclid, special,...</td>\n",
       "    </tr>\n",
       "    <tr>\n",
       "      <th>2</th>\n",
       "      <td>4</td>\n",
       "      <td>['Item #: SCP-004', 'Object Class: Euclid', 'S...</td>\n",
       "      <td>1056</td>\n",
       "      <td>124</td>\n",
       "      <td>[item, scp004, object, class, euclid, special,...</td>\n",
       "    </tr>\n",
       "    <tr>\n",
       "      <th>3</th>\n",
       "      <td>5</td>\n",
       "      <td>['Item #: SCP-005', 'Object Class: Safe', 'Spe...</td>\n",
       "      <td>611</td>\n",
       "      <td>106</td>\n",
       "      <td>[item, scp005, object, class, safe, special, c...</td>\n",
       "    </tr>\n",
       "    <tr>\n",
       "      <th>4</th>\n",
       "      <td>6</td>\n",
       "      <td>['Item #: SCP-006', 'Object Class: Safe', \"Spe...</td>\n",
       "      <td>584</td>\n",
       "      <td>101</td>\n",
       "      <td>[item, scp006, object, class, safe, special, c...</td>\n",
       "    </tr>\n",
       "  </tbody>\n",
       "</table>\n",
       "</div>"
      ],
      "text/plain": [
       "   SCP Number                                           SCP Text  Ratings  \\\n",
       "0           2  ['Item #: SCP-002', 'Object Class: Euclid', 'S...     1642   \n",
       "1           3  ['Item #: SCP-003', 'Object Class: Euclid', 'S...      734   \n",
       "2           4  ['Item #: SCP-004', 'Object Class: Euclid', 'S...     1056   \n",
       "3           5  ['Item #: SCP-005', 'Object Class: Safe', 'Spe...      611   \n",
       "4           6  ['Item #: SCP-006', 'Object Class: Safe', \"Spe...      584   \n",
       "\n",
       "   Discussions                                 SCP Text Cleaned 1  \n",
       "0          127  [item, scp002, object, class, euclid, special,...  \n",
       "1           87  [item, scp003, object, class, euclid, special,...  \n",
       "2          124  [item, scp004, object, class, euclid, special,...  \n",
       "3          106  [item, scp005, object, class, safe, special, c...  \n",
       "4          101  [item, scp006, object, class, safe, special, c...  "
      ]
     },
     "execution_count": 224,
     "metadata": {},
     "output_type": "execute_result"
    }
   ],
   "source": [
    "df.head()"
   ]
  },
  {
   "cell_type": "markdown",
   "metadata": {},
   "source": [
    "### Exporting"
   ]
  },
  {
   "cell_type": "code",
   "execution_count": 210,
   "metadata": {},
   "outputs": [],
   "source": [
    "df.to_csv('scp_cleaned_22112021_export_1.csv')"
   ]
  },
  {
   "cell_type": "markdown",
   "metadata": {},
   "source": [
    "# 2- NLP"
   ]
  },
  {
   "cell_type": "markdown",
   "metadata": {},
   "source": [
    "### Word Cloud"
   ]
  },
  {
   "cell_type": "code",
   "execution_count": 234,
   "metadata": {},
   "outputs": [],
   "source": [
    "flat_clean = [item for sublist in df['SCP Text Cleaned 1'] for item in sublist]"
   ]
  },
  {
   "cell_type": "code",
   "execution_count": 291,
   "metadata": {},
   "outputs": [],
   "source": [
    "merged_flat_clean = \" \".join(flat_clean) "
   ]
  },
  {
   "cell_type": "code",
   "execution_count": 298,
   "metadata": {},
   "outputs": [],
   "source": [
    "stopwords = set(STOPWORDS)\n",
    "# stopwords.update([\"subject\",\"containment procedure\",\"special containment\"]) # use to block some words if needed\n",
    "wordcloud = WordCloud(max_words=25,background_color=\"white\").generate(merged_flat_clean)"
   ]
  },
  {
   "cell_type": "code",
   "execution_count": 299,
   "metadata": {},
   "outputs": [
    {
     "data": {
      "image/png": "[encoded data removed]",
      "text/plain": [
       "<Figure size 1440x720 with 1 Axes>"
      ]
     },
     "metadata": {
      "needs_background": "light"
     },
     "output_type": "display_data"
    }
   ],
   "source": [
    "plt.figure(figsize=(20,10))\n",
    "plt.imshow(wordcloud)\n",
    "plt.axis('off')\n",
    "plt.show()"
   ]
  },
  {
   "cell_type": "markdown",
   "metadata": {},
   "source": [
    "### Basic NLP"
   ]
  },
  {
   "cell_type": "code",
   "execution_count": 301,
   "metadata": {},
   "outputs": [],
   "source": [
    "fd = nltk.FreqDist(flat_clean)"
   ]
  },
  {
   "cell_type": "code",
   "execution_count": 306,
   "metadata": {},
   "outputs": [
    {
     "data": {
      "text/plain": [
       "[('subject', 13089),\n",
       " ('containment', 8742),\n",
       " ('dr', 8719),\n",
       " ('instance', 7682),\n",
       " ('time', 7135),\n",
       " ('object', 6843),\n",
       " ('one', 6829),\n",
       " ('personnel', 6400),\n",
       " ('foundation', 6264),\n",
       " ('within', 5446)]"
      ]
     },
     "execution_count": 306,
     "metadata": {},
     "output_type": "execute_result"
    }
   ],
   "source": [
    "fd.most_common(10)"
   ]
  },
  {
   "cell_type": "code",
   "execution_count": 313,
   "metadata": {},
   "outputs": [
    {
     "name": "stdout",
     "output_type": "stream",
     "text": [
      "Euclid: 1437\n",
      "Keter: 476\n"
     ]
    }
   ],
   "source": [
    "print('Euclid: '+str(fd['euclid']))\n",
    "print('Keter: '+str(fd['keter']))"
   ]
  },
  {
   "cell_type": "markdown",
   "metadata": {},
   "source": [
    "### Sentiment Analysis "
   ]
  },
  {
   "cell_type": "code",
   "execution_count": 363,
   "metadata": {},
   "outputs": [],
   "source": [
    "def nlp_cleaner_class2(my_list):\n",
    "    my_list = str(my_list)\n",
    "    my_list = my_list.replace('\\\\n\\\\n',' ') #HTML leftovers\n",
    "    my_list = re.sub(r\"(@\\[A-Za-z0-9]+)|([^0-9A-Za-z \\t])|(\\w+:\\/\\/\\S+)|^rt|http.+?\", \"\", my_list)#HTML leftovers\n",
    "    my_list = my_list.lower()\n",
    "    return(my_list)"
   ]
  },
  {
   "cell_type": "code",
   "execution_count": 335,
   "metadata": {},
   "outputs": [],
   "source": [
    "map_clean_text_sentiment = map(nlp_cleaner_class2, df.loc[:,\"SCP Text\"])"
   ]
  },
  {
   "cell_type": "code",
   "execution_count": 336,
   "metadata": {},
   "outputs": [],
   "source": [
    "list_clean_text_sentiment = list(map_clean_text_sentiment)"
   ]
  },
  {
   "cell_type": "code",
   "execution_count": 341,
   "metadata": {},
   "outputs": [],
   "source": [
    "scp_df_sentiment = pd.DataFrame(columns = ['SCP Number', 'SCP Text', 'Negative', 'Neutral', 'Positive'])"
   ]
  },
  {
   "cell_type": "code",
   "execution_count": 345,
   "metadata": {},
   "outputs": [],
   "source": [
    "scp_df_sentiment.iloc[:,0] = df.iloc[:,0]\n",
    "scp_df_sentiment.iloc[:,1] = list_clean_text_sentiment "
   ]
  },
  {
   "cell_type": "code",
   "execution_count": 357,
   "metadata": {},
   "outputs": [
    {
     "name": "stderr",
     "output_type": "stream",
     "text": [
      "100%|██████████████████████████████████████████████████████████████████████████████| 2719/2719 [01:34<00:00, 28.68it/s]\n"
     ]
    }
   ],
   "source": [
    "for i in tqdm(range(len(scp_df_sentiment))):\n",
    "    score = sia.polarity_scores(scp_df_sentiment.iloc[i,1])\n",
    "    scp_df_sentiment.iloc[i,2] = score['neg']\n",
    "    scp_df_sentiment.iloc[i,3] = score['neu']\n",
    "    scp_df_sentiment.iloc[i,4] = score['pos']"
   ]
  },
  {
   "cell_type": "code",
   "execution_count": 358,
   "metadata": {},
   "outputs": [
    {
     "data": {
      "text/html": [
       "<div>\n",
       "<style scoped>\n",
       "    .dataframe tbody tr th:only-of-type {\n",
       "        vertical-align: middle;\n",
       "    }\n",
       "\n",
       "    .dataframe tbody tr th {\n",
       "        vertical-align: top;\n",
       "    }\n",
       "\n",
       "    .dataframe thead th {\n",
       "        text-align: right;\n",
       "    }\n",
       "</style>\n",
       "<table border=\"1\" class=\"dataframe\">\n",
       "  <thead>\n",
       "    <tr style=\"text-align: right;\">\n",
       "      <th></th>\n",
       "      <th>SCP Number</th>\n",
       "      <th>SCP Text</th>\n",
       "      <th>Negative</th>\n",
       "      <th>Neutral</th>\n",
       "      <th>Positive</th>\n",
       "    </tr>\n",
       "  </thead>\n",
       "  <tbody>\n",
       "    <tr>\n",
       "      <th>0</th>\n",
       "      <td>2</td>\n",
       "      <td>item  scp002 object class euclid special conta...</td>\n",
       "      <td>0.053</td>\n",
       "      <td>0.891</td>\n",
       "      <td>0.057</td>\n",
       "    </tr>\n",
       "    <tr>\n",
       "      <th>1</th>\n",
       "      <td>3</td>\n",
       "      <td>item  scp003 object class euclid special conta...</td>\n",
       "      <td>0.034</td>\n",
       "      <td>0.863</td>\n",
       "      <td>0.103</td>\n",
       "    </tr>\n",
       "    <tr>\n",
       "      <th>2</th>\n",
       "      <td>4</td>\n",
       "      <td>item  scp004 object class euclid special conta...</td>\n",
       "      <td>0.044</td>\n",
       "      <td>0.918</td>\n",
       "      <td>0.038</td>\n",
       "    </tr>\n",
       "    <tr>\n",
       "      <th>3</th>\n",
       "      <td>5</td>\n",
       "      <td>item  scp005 object class safe special contain...</td>\n",
       "      <td>0.059</td>\n",
       "      <td>0.824</td>\n",
       "      <td>0.117</td>\n",
       "    </tr>\n",
       "    <tr>\n",
       "      <th>4</th>\n",
       "      <td>6</td>\n",
       "      <td>item  scp006 object class safe special contain...</td>\n",
       "      <td>0.077</td>\n",
       "      <td>0.828</td>\n",
       "      <td>0.094</td>\n",
       "    </tr>\n",
       "  </tbody>\n",
       "</table>\n",
       "</div>"
      ],
      "text/plain": [
       "   SCP Number                                           SCP Text Negative  \\\n",
       "0           2  item  scp002 object class euclid special conta...    0.053   \n",
       "1           3  item  scp003 object class euclid special conta...    0.034   \n",
       "2           4  item  scp004 object class euclid special conta...    0.044   \n",
       "3           5  item  scp005 object class safe special contain...    0.059   \n",
       "4           6  item  scp006 object class safe special contain...    0.077   \n",
       "\n",
       "  Neutral Positive  \n",
       "0   0.891    0.057  \n",
       "1   0.863    0.103  \n",
       "2   0.918    0.038  \n",
       "3   0.824    0.117  \n",
       "4   0.828    0.094  "
      ]
     },
     "execution_count": 358,
     "metadata": {},
     "output_type": "execute_result"
    }
   ],
   "source": [
    "scp_df_sentiment.head()"
   ]
  },
  {
   "cell_type": "markdown",
   "metadata": {},
   "source": [
    "##### Most SCP stories are neutral"
   ]
  },
  {
   "cell_type": "code",
   "execution_count": 359,
   "metadata": {},
   "outputs": [
    {
     "data": {
      "text/plain": [
       "<matplotlib.axes._subplots.AxesSubplot at 0x1e76965e048>"
      ]
     },
     "execution_count": 359,
     "metadata": {},
     "output_type": "execute_result"
    },
    {
     "data": {
      "image/png": "[encoded data removed]",
      "text/plain": [
       "<Figure size 432x288 with 1 Axes>"
      ]
     },
     "metadata": {
      "needs_background": "light"
     },
     "output_type": "display_data"
    }
   ],
   "source": [
    "scp_df_sentiment['Neutral'].plot(kind='hist')"
   ]
  },
  {
   "cell_type": "markdown",
   "metadata": {},
   "source": [
    "##### SCP 1758 is the most positive"
   ]
  },
  {
   "cell_type": "code",
   "execution_count": 360,
   "metadata": {},
   "outputs": [
    {
     "data": {
      "text/html": [
       "<div>\n",
       "<style scoped>\n",
       "    .dataframe tbody tr th:only-of-type {\n",
       "        vertical-align: middle;\n",
       "    }\n",
       "\n",
       "    .dataframe tbody tr th {\n",
       "        vertical-align: top;\n",
       "    }\n",
       "\n",
       "    .dataframe thead th {\n",
       "        text-align: right;\n",
       "    }\n",
       "</style>\n",
       "<table border=\"1\" class=\"dataframe\">\n",
       "  <thead>\n",
       "    <tr style=\"text-align: right;\">\n",
       "      <th></th>\n",
       "      <th>SCP Number</th>\n",
       "      <th>SCP Text</th>\n",
       "      <th>Negative</th>\n",
       "      <th>Neutral</th>\n",
       "      <th>Positive</th>\n",
       "    </tr>\n",
       "  </thead>\n",
       "  <tbody>\n",
       "    <tr>\n",
       "      <th>1756</th>\n",
       "      <td>1758</td>\n",
       "      <td>item  scp1758 object class safe special contai...</td>\n",
       "      <td>0.031</td>\n",
       "      <td>0.708</td>\n",
       "      <td>0.26</td>\n",
       "    </tr>\n",
       "    <tr>\n",
       "      <th>997</th>\n",
       "      <td>999</td>\n",
       "      <td>item  scp999 object class safe special contain...</td>\n",
       "      <td>0.081</td>\n",
       "      <td>0.73</td>\n",
       "      <td>0.188</td>\n",
       "    </tr>\n",
       "    <tr>\n",
       "      <th>2717</th>\n",
       "      <td>2719</td>\n",
       "      <td>item  scp2719 object class keter special conta...</td>\n",
       "      <td>0</td>\n",
       "      <td>0.816</td>\n",
       "      <td>0.184</td>\n",
       "    </tr>\n",
       "    <tr>\n",
       "      <th>2668</th>\n",
       "      <td>2670</td>\n",
       "      <td>item  scp2670 object class euclid special cont...</td>\n",
       "      <td>0.041</td>\n",
       "      <td>0.791</td>\n",
       "      <td>0.167</td>\n",
       "    </tr>\n",
       "    <tr>\n",
       "      <th>1846</th>\n",
       "      <td>1848</td>\n",
       "      <td>item  scp1848 object class euclid safe special...</td>\n",
       "      <td>0.074</td>\n",
       "      <td>0.759</td>\n",
       "      <td>0.167</td>\n",
       "    </tr>\n",
       "    <tr>\n",
       "      <th>...</th>\n",
       "      <td>...</td>\n",
       "      <td>...</td>\n",
       "      <td>...</td>\n",
       "      <td>...</td>\n",
       "      <td>...</td>\n",
       "    </tr>\n",
       "    <tr>\n",
       "      <th>595</th>\n",
       "      <td>597</td>\n",
       "      <td>adult content</td>\n",
       "      <td>0</td>\n",
       "      <td>1</td>\n",
       "      <td>0</td>\n",
       "    </tr>\n",
       "    <tr>\n",
       "      <th>2519</th>\n",
       "      <td>2521</td>\n",
       "      <td></td>\n",
       "      <td>0</td>\n",
       "      <td>0</td>\n",
       "      <td>0</td>\n",
       "    </tr>\n",
       "    <tr>\n",
       "      <th>2605</th>\n",
       "      <td>2607</td>\n",
       "      <td>adult content</td>\n",
       "      <td>0</td>\n",
       "      <td>1</td>\n",
       "      <td>0</td>\n",
       "    </tr>\n",
       "    <tr>\n",
       "      <th>2180</th>\n",
       "      <td>2182</td>\n",
       "      <td>adult content</td>\n",
       "      <td>0</td>\n",
       "      <td>1</td>\n",
       "      <td>0</td>\n",
       "    </tr>\n",
       "    <tr>\n",
       "      <th>693</th>\n",
       "      <td>695</td>\n",
       "      <td>adult content</td>\n",
       "      <td>0</td>\n",
       "      <td>1</td>\n",
       "      <td>0</td>\n",
       "    </tr>\n",
       "  </tbody>\n",
       "</table>\n",
       "<p>2719 rows × 5 columns</p>\n",
       "</div>"
      ],
      "text/plain": [
       "      SCP Number                                           SCP Text Negative  \\\n",
       "1756        1758  item  scp1758 object class safe special contai...    0.031   \n",
       "997          999  item  scp999 object class safe special contain...    0.081   \n",
       "2717        2719  item  scp2719 object class keter special conta...        0   \n",
       "2668        2670  item  scp2670 object class euclid special cont...    0.041   \n",
       "1846        1848  item  scp1848 object class euclid safe special...    0.074   \n",
       "...          ...                                                ...      ...   \n",
       "595          597                                      adult content        0   \n",
       "2519        2521                                                           0   \n",
       "2605        2607                                      adult content        0   \n",
       "2180        2182                                      adult content        0   \n",
       "693          695                                      adult content        0   \n",
       "\n",
       "     Neutral Positive  \n",
       "1756   0.708     0.26  \n",
       "997     0.73    0.188  \n",
       "2717   0.816    0.184  \n",
       "2668   0.791    0.167  \n",
       "1846   0.759    0.167  \n",
       "...      ...      ...  \n",
       "595        1        0  \n",
       "2519       0        0  \n",
       "2605       1        0  \n",
       "2180       1        0  \n",
       "693        1        0  \n",
       "\n",
       "[2719 rows x 5 columns]"
      ]
     },
     "execution_count": 360,
     "metadata": {},
     "output_type": "execute_result"
    }
   ],
   "source": [
    "scp_df_sentiment.sort_values('Positive', ascending=False)"
   ]
  },
  {
   "cell_type": "markdown",
   "metadata": {},
   "source": [
    "##### SCP 682 is the most negative"
   ]
  },
  {
   "cell_type": "code",
   "execution_count": 362,
   "metadata": {},
   "outputs": [
    {
     "data": {
      "text/html": [
       "<div>\n",
       "<style scoped>\n",
       "    .dataframe tbody tr th:only-of-type {\n",
       "        vertical-align: middle;\n",
       "    }\n",
       "\n",
       "    .dataframe tbody tr th {\n",
       "        vertical-align: top;\n",
       "    }\n",
       "\n",
       "    .dataframe thead th {\n",
       "        text-align: right;\n",
       "    }\n",
       "</style>\n",
       "<table border=\"1\" class=\"dataframe\">\n",
       "  <thead>\n",
       "    <tr style=\"text-align: right;\">\n",
       "      <th></th>\n",
       "      <th>SCP Number</th>\n",
       "      <th>SCP Text</th>\n",
       "      <th>Negative</th>\n",
       "      <th>Neutral</th>\n",
       "      <th>Positive</th>\n",
       "    </tr>\n",
       "  </thead>\n",
       "  <tbody>\n",
       "    <tr>\n",
       "      <th>680</th>\n",
       "      <td>682</td>\n",
       "      <td>item  scp682 object class keter special contai...</td>\n",
       "      <td>0.205</td>\n",
       "      <td>0.744</td>\n",
       "      <td>0.051</td>\n",
       "    </tr>\n",
       "    <tr>\n",
       "      <th>512</th>\n",
       "      <td>514</td>\n",
       "      <td>item  scp514 object class euclid special conta...</td>\n",
       "      <td>0.198</td>\n",
       "      <td>0.744</td>\n",
       "      <td>0.059</td>\n",
       "    </tr>\n",
       "    <tr>\n",
       "      <th>46</th>\n",
       "      <td>48</td>\n",
       "      <td>item  scp048 object class none see description...</td>\n",
       "      <td>0.196</td>\n",
       "      <td>0.746</td>\n",
       "      <td>0.059</td>\n",
       "    </tr>\n",
       "    <tr>\n",
       "      <th>910</th>\n",
       "      <td>912</td>\n",
       "      <td>item  scp912 object class safe special contain...</td>\n",
       "      <td>0.189</td>\n",
       "      <td>0.774</td>\n",
       "      <td>0.038</td>\n",
       "    </tr>\n",
       "    <tr>\n",
       "      <th>1074</th>\n",
       "      <td>1076</td>\n",
       "      <td>item  scp1076 object class euclid special cont...</td>\n",
       "      <td>0.181</td>\n",
       "      <td>0.774</td>\n",
       "      <td>0.045</td>\n",
       "    </tr>\n",
       "    <tr>\n",
       "      <th>...</th>\n",
       "      <td>...</td>\n",
       "      <td>...</td>\n",
       "      <td>...</td>\n",
       "      <td>...</td>\n",
       "      <td>...</td>\n",
       "    </tr>\n",
       "    <tr>\n",
       "      <th>693</th>\n",
       "      <td>695</td>\n",
       "      <td>adult content</td>\n",
       "      <td>0</td>\n",
       "      <td>1</td>\n",
       "      <td>0</td>\n",
       "    </tr>\n",
       "    <tr>\n",
       "      <th>1002</th>\n",
       "      <td>1004</td>\n",
       "      <td>adult content</td>\n",
       "      <td>0</td>\n",
       "      <td>1</td>\n",
       "      <td>0</td>\n",
       "    </tr>\n",
       "    <tr>\n",
       "      <th>2210</th>\n",
       "      <td>2212</td>\n",
       "      <td></td>\n",
       "      <td>0</td>\n",
       "      <td>0</td>\n",
       "      <td>0</td>\n",
       "    </tr>\n",
       "    <tr>\n",
       "      <th>833</th>\n",
       "      <td>835</td>\n",
       "      <td>adult content</td>\n",
       "      <td>0</td>\n",
       "      <td>1</td>\n",
       "      <td>0</td>\n",
       "    </tr>\n",
       "    <tr>\n",
       "      <th>2605</th>\n",
       "      <td>2607</td>\n",
       "      <td>adult content</td>\n",
       "      <td>0</td>\n",
       "      <td>1</td>\n",
       "      <td>0</td>\n",
       "    </tr>\n",
       "  </tbody>\n",
       "</table>\n",
       "<p>2719 rows × 5 columns</p>\n",
       "</div>"
      ],
      "text/plain": [
       "      SCP Number                                           SCP Text Negative  \\\n",
       "680          682  item  scp682 object class keter special contai...    0.205   \n",
       "512          514  item  scp514 object class euclid special conta...    0.198   \n",
       "46            48  item  scp048 object class none see description...    0.196   \n",
       "910          912  item  scp912 object class safe special contain...    0.189   \n",
       "1074        1076  item  scp1076 object class euclid special cont...    0.181   \n",
       "...          ...                                                ...      ...   \n",
       "693          695                                      adult content        0   \n",
       "1002        1004                                      adult content        0   \n",
       "2210        2212                                                           0   \n",
       "833          835                                      adult content        0   \n",
       "2605        2607                                      adult content        0   \n",
       "\n",
       "     Neutral Positive  \n",
       "680    0.744    0.051  \n",
       "512    0.744    0.059  \n",
       "46     0.746    0.059  \n",
       "910    0.774    0.038  \n",
       "1074   0.774    0.045  \n",
       "...      ...      ...  \n",
       "693        1        0  \n",
       "1002       1        0  \n",
       "2210       0        0  \n",
       "833        1        0  \n",
       "2605       1        0  \n",
       "\n",
       "[2719 rows x 5 columns]"
      ]
     },
     "execution_count": 362,
     "metadata": {},
     "output_type": "execute_result"
    }
   ],
   "source": [
    "scp_df_sentiment.sort_values('Negative', ascending=False)"
   ]
  },
  {
   "cell_type": "code",
   "execution_count": null,
   "metadata": {},
   "outputs": [],
   "source": []
  }
 ],
 "metadata": {
  "kernelspec": {
   "display_name": "Python 3",
   "language": "python",
   "name": "python3"
  },
  "language_info": {
   "codemirror_mode": {
    "name": "ipython",
    "version": 3
   },
   "file_extension": ".py",
   "mimetype": "text/x-python",
   "name": "python",
   "nbconvert_exporter": "python",
   "pygments_lexer": "ipython3",
   "version": "3.7.6"
  }
 },
 "nbformat": 4,
 "nbformat_minor": 4
}
